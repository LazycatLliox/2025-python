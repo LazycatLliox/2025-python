{
 "cells": [
  {
   "cell_type": "markdown",
   "id": "c01ded7b",
   "metadata": {},
   "source": [
    "# Programmatic Thinking"
   ]
  },
  {
   "cell_type": "markdown",
   "id": "3e8d1b37",
   "metadata": {},
   "source": [
    "## 1.1 Arithmetic Operators \n",
    "\n",
    "<font color = \"hotpink\">Arithmetic Operators</font> - symbols that repersent arithmetic operations"
   ]
  },
  {
   "cell_type": "code",
   "execution_count": 1,
   "id": "1d9fde12",
   "metadata": {},
   "outputs": [
    {
     "data": {
      "text/plain": [
       "42"
      ]
     },
     "execution_count": 1,
     "metadata": {},
     "output_type": "execute_result"
    }
   ],
   "source": [
    "30 + 12 \n"
   ]
  },
  {
   "cell_type": "code",
   "execution_count": 2,
   "id": "542c69ff",
   "metadata": {},
   "outputs": [
    {
     "data": {
      "text/plain": [
       "42"
      ]
     },
     "execution_count": 2,
     "metadata": {},
     "output_type": "execute_result"
    }
   ],
   "source": [
    "43 - 1 "
   ]
  },
  {
   "cell_type": "code",
   "execution_count": 3,
   "id": "6c5fa10c",
   "metadata": {},
   "outputs": [
    {
     "data": {
      "text/plain": [
       "42"
      ]
     },
     "execution_count": 3,
     "metadata": {},
     "output_type": "execute_result"
    }
   ],
   "source": [
    "6 * 7 "
   ]
  },
  {
   "cell_type": "code",
   "execution_count": 4,
   "id": "7569687d",
   "metadata": {},
   "outputs": [
    {
     "data": {
      "text/plain": [
       "42.0"
      ]
     },
     "execution_count": 4,
     "metadata": {},
     "output_type": "execute_result"
    }
   ],
   "source": [
    "84 / 2"
   ]
  },
  {
   "cell_type": "markdown",
   "id": "959ab1e7",
   "metadata": {},
   "source": [
    "<b><font color = \"hotpink\">Integers</font></b> - represents numbers with no decimal or fraction\n",
    "\n",
    "<b><font color = \"hotpink\">floats</font></b> - numbers that are decimals or a fraction"
   ]
  },
  {
   "cell_type": "code",
   "execution_count": 5,
   "id": "52bfef7c",
   "metadata": {},
   "outputs": [
    {
     "data": {
      "text/plain": [
       "42"
      ]
     },
     "execution_count": 5,
     "metadata": {},
     "output_type": "execute_result"
    }
   ],
   "source": [
    "84 // 2 #floor division(only gives the numbers before the decimal)"
   ]
  },
  {
   "cell_type": "code",
   "execution_count": 6,
   "id": "6d5897e0",
   "metadata": {},
   "outputs": [
    {
     "data": {
      "text/plain": [
       "42"
      ]
     },
     "execution_count": 6,
     "metadata": {},
     "output_type": "execute_result"
    }
   ],
   "source": [
    "85 // 2"
   ]
  },
  {
   "cell_type": "code",
   "execution_count": 7,
   "id": "0032246c",
   "metadata": {},
   "outputs": [
    {
     "data": {
      "text/plain": [
       "49"
      ]
     },
     "execution_count": 7,
     "metadata": {},
     "output_type": "execute_result"
    }
   ],
   "source": [
    "# Exponents - when you raise to the power of another number \n",
    "\n",
    "7 ** 2 "
   ]
  },
  {
   "cell_type": "code",
   "execution_count": 8,
   "id": "060291b5",
   "metadata": {},
   "outputs": [
    {
     "data": {
      "text/plain": [
       "129.64181424216494"
      ]
     },
     "execution_count": 8,
     "metadata": {},
     "output_type": "execute_result"
    }
   ],
   "source": [
    "7 ** 2.5 "
   ]
  },
  {
   "cell_type": "markdown",
   "id": "4af015d9",
   "metadata": {},
   "source": [
    "Some Languages use the caret ^ for exponents"
   ]
  },
  {
   "cell_type": "markdown",
   "id": "0192d405",
   "metadata": {},
   "source": [
    "## 1.2 Expressions "
   ]
  },
  {
   "cell_type": "markdown",
   "id": "10fbc0bf",
   "metadata": {},
   "source": [
    "<font color = \"hotpink\">Expression</font> - A collections operators and numbers "
   ]
  },
  {
   "cell_type": "code",
   "execution_count": 9,
   "id": "4347cec0",
   "metadata": {},
   "outputs": [
    {
     "data": {
      "text/plain": [
       "42"
      ]
     },
     "execution_count": 9,
     "metadata": {},
     "output_type": "execute_result"
    }
   ],
   "source": [
    "6 + 6 ** 2 "
   ]
  },
  {
   "cell_type": "code",
   "execution_count": 10,
   "id": "d65b116c",
   "metadata": {},
   "outputs": [
    {
     "data": {
      "text/plain": [
       "42"
      ]
     },
     "execution_count": 10,
     "metadata": {},
     "output_type": "execute_result"
    }
   ],
   "source": [
    "12 + 5 * 6 "
   ]
  },
  {
   "cell_type": "code",
   "execution_count": 14,
   "id": "039d1b14",
   "metadata": {},
   "outputs": [
    {
     "data": {
      "text/plain": [
       "42"
      ]
     },
     "execution_count": 14,
     "metadata": {},
     "output_type": "execute_result"
    }
   ],
   "source": [
    "(2 + 5) * 6"
   ]
  },
  {
   "cell_type": "markdown",
   "id": "23988049",
   "metadata": {},
   "source": [
    "## 1.3 Arithmetic Functions"
   ]
  },
  {
   "cell_type": "code",
   "execution_count": 12,
   "id": "324f6677",
   "metadata": {},
   "outputs": [
    {
     "data": {
      "text/plain": [
       "42"
      ]
     },
     "execution_count": 12,
     "metadata": {},
     "output_type": "execute_result"
    }
   ],
   "source": [
    "round(42.4) # rounds the number"
   ]
  },
  {
   "cell_type": "code",
   "execution_count": 13,
   "id": "d5dd304c",
   "metadata": {},
   "outputs": [
    {
     "data": {
      "text/plain": [
       "42"
      ]
     },
     "execution_count": 13,
     "metadata": {},
     "output_type": "execute_result"
    }
   ],
   "source": [
    "round(41.6)"
   ]
  },
  {
   "cell_type": "code",
   "execution_count": 15,
   "id": "bc7ec59a",
   "metadata": {},
   "outputs": [
    {
     "data": {
      "text/plain": [
       "42"
      ]
     },
     "execution_count": 15,
     "metadata": {},
     "output_type": "execute_result"
    }
   ],
   "source": [
    "# the abs function - computes the numbers absolute value \n",
    "abs(42)"
   ]
  },
  {
   "cell_type": "code",
   "execution_count": 16,
   "id": "7caff7fd",
   "metadata": {},
   "outputs": [
    {
     "data": {
      "text/plain": [
       "42"
      ]
     },
     "execution_count": 16,
     "metadata": {},
     "output_type": "execute_result"
    }
   ],
   "source": [
    "abs(-42)"
   ]
  },
  {
   "cell_type": "markdown",
   "id": "180ffcd6",
   "metadata": {},
   "source": [
    "## 1.4 Strings "
   ]
  },
  {
   "cell_type": "markdown",
   "id": "f6eff7ce",
   "metadata": {},
   "source": [
    "<font color = \"hotpink\">Strings</font> - In python or any other programming language, strings represents sequence of charcters contained in quotes"
   ]
  },
  {
   "cell_type": "code",
   "execution_count": 17,
   "id": "d7ebbd60",
   "metadata": {},
   "outputs": [
    {
     "data": {
      "text/plain": [
       "'help'"
      ]
     },
     "execution_count": 17,
     "metadata": {},
     "output_type": "execute_result"
    }
   ],
   "source": [
    "'help'"
   ]
  },
  {
   "cell_type": "code",
   "execution_count": 18,
   "id": "13c02224",
   "metadata": {},
   "outputs": [
    {
     "data": {
      "text/plain": [
       "'world'"
      ]
     },
     "execution_count": 18,
     "metadata": {},
     "output_type": "execute_result"
    }
   ],
   "source": [
    "\"world\""
   ]
  },
  {
   "cell_type": "code",
   "execution_count": 19,
   "id": "fab661f4",
   "metadata": {},
   "outputs": [
    {
     "ename": "SyntaxError",
     "evalue": "unterminated string literal (detected at line 1) (3260505140.py, line 1)",
     "output_type": "error",
     "traceback": [
      "  \u001b[36mCell\u001b[39m\u001b[36m \u001b[39m\u001b[32mIn[19]\u001b[39m\u001b[32m, line 1\u001b[39m\n\u001b[31m    \u001b[39m\u001b[31m\"hello world'\u001b[39m\n    ^\n\u001b[31mSyntaxError\u001b[39m\u001b[31m:\u001b[39m unterminated string literal (detected at line 1)\n"
     ]
    }
   ],
   "source": [
    "\"hello world'"
   ]
  },
  {
   "cell_type": "markdown",
   "id": "7f0aa35f",
   "metadata": {},
   "source": [
    "### + operator with strings: \n",
    "\n",
    "<b>Concatination<b> - taking multiple strings and putting them together"
   ]
  },
  {
   "cell_type": "code",
   "execution_count": 20,
   "id": "9551347c",
   "metadata": {},
   "outputs": [
    {
     "data": {
      "text/plain": [
       "'hello world'"
      ]
     },
     "execution_count": 20,
     "metadata": {},
     "output_type": "execute_result"
    }
   ],
   "source": [
    "'hello ' + \"world\""
   ]
  },
  {
   "cell_type": "markdown",
   "id": "b29a06ed",
   "metadata": {},
   "source": [
    "### * operator with strings \n",
    "\n",
    "- it makes multiple multiple copy of a string and concatenates them together "
   ]
  },
  {
   "cell_type": "code",
   "execution_count": 22,
   "id": "616c9831",
   "metadata": {},
   "outputs": [
    {
     "data": {
      "text/plain": [
       "'spam, spam, spam, spam, '"
      ]
     },
     "execution_count": 22,
     "metadata": {},
     "output_type": "execute_result"
    }
   ],
   "source": [
    "'spam, ' * 4 "
   ]
  },
  {
   "cell_type": "markdown",
   "id": "6d0c5c6d",
   "metadata": {},
   "source": [
    "## String Functions "
   ]
  },
  {
   "cell_type": "code",
   "execution_count": 23,
   "id": "7179b3ce",
   "metadata": {},
   "outputs": [
    {
     "data": {
      "text/plain": [
       "4"
      ]
     },
     "execution_count": 23,
     "metadata": {},
     "output_type": "execute_result"
    }
   ],
   "source": [
    "len('spam')"
   ]
  },
  {
   "cell_type": "code",
   "execution_count": null,
   "id": "62c0855c",
   "metadata": {},
   "outputs": [],
   "source": []
  }
 ],
 "metadata": {
  "kernelspec": {
   "display_name": "Python 3",
   "language": "python",
   "name": "python3"
  },
  "language_info": {
   "codemirror_mode": {
    "name": "ipython",
    "version": 3
   },
   "file_extension": ".py",
   "mimetype": "text/x-python",
   "name": "python",
   "nbconvert_exporter": "python",
   "pygments_lexer": "ipython3",
   "version": "3.12.1"
  }
 },
 "nbformat": 4,
 "nbformat_minor": 5
}
