{
 "cells": [
  {
   "cell_type": "markdown",
   "id": "c01ded7b",
   "metadata": {},
   "source": [
    "# Programmatic Thinking"
   ]
  },
  {
   "cell_type": "markdown",
   "id": "3e8d1b37",
   "metadata": {},
   "source": [
    "## 1.1 Arithmetic Operators \n",
    "\n",
    "<font color = \"hotpink\">Arithmetic Operators</font> - symbols that repersent arithmetic operations"
   ]
  },
  {
   "cell_type": "code",
   "execution_count": 1,
   "id": "1d9fde12",
   "metadata": {},
   "outputs": [
    {
     "data": {
      "text/plain": [
       "42"
      ]
     },
     "execution_count": 1,
     "metadata": {},
     "output_type": "execute_result"
    }
   ],
   "source": [
    "30 + 12 \n"
   ]
  },
  {
   "cell_type": "code",
   "execution_count": 2,
   "id": "542c69ff",
   "metadata": {},
   "outputs": [
    {
     "data": {
      "text/plain": [
       "42"
      ]
     },
     "execution_count": 2,
     "metadata": {},
     "output_type": "execute_result"
    }
   ],
   "source": [
    "43 - 1 "
   ]
  },
  {
   "cell_type": "code",
   "execution_count": 3,
   "id": "6c5fa10c",
   "metadata": {},
   "outputs": [
    {
     "data": {
      "text/plain": [
       "42"
      ]
     },
     "execution_count": 3,
     "metadata": {},
     "output_type": "execute_result"
    }
   ],
   "source": [
    "6 * 7 "
   ]
  },
  {
   "cell_type": "code",
   "execution_count": 4,
   "id": "7569687d",
   "metadata": {},
   "outputs": [
    {
     "data": {
      "text/plain": [
       "42.0"
      ]
     },
     "execution_count": 4,
     "metadata": {},
     "output_type": "execute_result"
    }
   ],
   "source": [
    "84 / 2"
   ]
  },
  {
   "cell_type": "markdown",
   "id": "959ab1e7",
   "metadata": {},
   "source": [
    "<b><font color = \"hotpink\">Integers</font></b> - represents numbers with no decimal or fraction\n",
    "\n",
    "<b><font color = \"hotpink\">floats</font></b> - numbers that are decimals or a fraction"
   ]
  },
  {
   "cell_type": "code",
   "execution_count": 5,
   "id": "52bfef7c",
   "metadata": {},
   "outputs": [
    {
     "data": {
      "text/plain": [
       "42"
      ]
     },
     "execution_count": 5,
     "metadata": {},
     "output_type": "execute_result"
    }
   ],
   "source": [
    "84 // 2 #floor division(only gives the numbers before the decimal)"
   ]
  },
  {
   "cell_type": "code",
   "execution_count": 6,
   "id": "6d5897e0",
   "metadata": {},
   "outputs": [
    {
     "data": {
      "text/plain": [
       "42"
      ]
     },
     "execution_count": 6,
     "metadata": {},
     "output_type": "execute_result"
    }
   ],
   "source": [
    "85 // 2"
   ]
  },
  {
   "cell_type": "code",
   "execution_count": 7,
   "id": "0032246c",
   "metadata": {},
   "outputs": [
    {
     "data": {
      "text/plain": [
       "49"
      ]
     },
     "execution_count": 7,
     "metadata": {},
     "output_type": "execute_result"
    }
   ],
   "source": [
    "# Exponents - when you raise to the power of another number \n",
    "\n",
    "7 ** 2 "
   ]
  },
  {
   "cell_type": "code",
   "execution_count": 8,
   "id": "060291b5",
   "metadata": {},
   "outputs": [
    {
     "data": {
      "text/plain": [
       "129.64181424216494"
      ]
     },
     "execution_count": 8,
     "metadata": {},
     "output_type": "execute_result"
    }
   ],
   "source": [
    "7 ** 2.5 "
   ]
  },
  {
   "cell_type": "markdown",
   "id": "4af015d9",
   "metadata": {},
   "source": [
    "Some Languages use the caret ^ for exponents"
   ]
  },
  {
   "cell_type": "markdown",
   "id": "0192d405",
   "metadata": {},
   "source": [
    "## 1.2 Expressions "
   ]
  },
  {
   "cell_type": "markdown",
   "id": "10fbc0bf",
   "metadata": {},
   "source": [
    "<font color = \"hotpink\">Expression</font> - A collections operators and numbers "
   ]
  },
  {
   "cell_type": "code",
   "execution_count": 9,
   "id": "4347cec0",
   "metadata": {},
   "outputs": [
    {
     "data": {
      "text/plain": [
       "42"
      ]
     },
     "execution_count": 9,
     "metadata": {},
     "output_type": "execute_result"
    }
   ],
   "source": [
    "6 + 6 ** 2 "
   ]
  },
  {
   "cell_type": "code",
   "execution_count": 10,
   "id": "d65b116c",
   "metadata": {},
   "outputs": [
    {
     "data": {
      "text/plain": [
       "42"
      ]
     },
     "execution_count": 10,
     "metadata": {},
     "output_type": "execute_result"
    }
   ],
   "source": [
    "12 + 5 * 6 "
   ]
  },
  {
   "cell_type": "code",
   "execution_count": 14,
   "id": "039d1b14",
   "metadata": {},
   "outputs": [
    {
     "data": {
      "text/plain": [
       "42"
      ]
     },
     "execution_count": 14,
     "metadata": {},
     "output_type": "execute_result"
    }
   ],
   "source": [
    "(2 + 5) * 6"
   ]
  },
  {
   "cell_type": "markdown",
   "id": "23988049",
   "metadata": {},
   "source": [
    "## 1.3 Arithmetic Functions"
   ]
  },
  {
   "cell_type": "code",
   "execution_count": 12,
   "id": "324f6677",
   "metadata": {},
   "outputs": [
    {
     "data": {
      "text/plain": [
       "42"
      ]
     },
     "execution_count": 12,
     "metadata": {},
     "output_type": "execute_result"
    }
   ],
   "source": [
    "round(42.4) # rounds the number"
   ]
  },
  {
   "cell_type": "code",
   "execution_count": 13,
   "id": "d5dd304c",
   "metadata": {},
   "outputs": [
    {
     "data": {
      "text/plain": [
       "42"
      ]
     },
     "execution_count": 13,
     "metadata": {},
     "output_type": "execute_result"
    }
   ],
   "source": [
    "round(41.6)"
   ]
  },
  {
   "cell_type": "code",
   "execution_count": 15,
   "id": "bc7ec59a",
   "metadata": {},
   "outputs": [
    {
     "data": {
      "text/plain": [
       "42"
      ]
     },
     "execution_count": 15,
     "metadata": {},
     "output_type": "execute_result"
    }
   ],
   "source": [
    "# the abs function - computes the numbers absolute value \n",
    "abs(42)"
   ]
  },
  {
   "cell_type": "code",
   "execution_count": 16,
   "id": "7caff7fd",
   "metadata": {},
   "outputs": [
    {
     "data": {
      "text/plain": [
       "42"
      ]
     },
     "execution_count": 16,
     "metadata": {},
     "output_type": "execute_result"
    }
   ],
   "source": [
    "abs(-42)"
   ]
  },
  {
   "cell_type": "markdown",
   "id": "180ffcd6",
   "metadata": {},
   "source": [
    "## 1.4 Strings "
   ]
  },
  {
   "cell_type": "markdown",
   "id": "f6eff7ce",
   "metadata": {},
   "source": [
    "<font color = \"hotpink\">Strings</font> - In python or any other programming language, strings represents sequence of charcters contained in quotes"
   ]
  },
  {
   "cell_type": "code",
   "execution_count": 17,
   "id": "d7ebbd60",
   "metadata": {},
   "outputs": [
    {
     "data": {
      "text/plain": [
       "'help'"
      ]
     },
     "execution_count": 17,
     "metadata": {},
     "output_type": "execute_result"
    }
   ],
   "source": [
    "'help'"
   ]
  },
  {
   "cell_type": "code",
   "execution_count": 18,
   "id": "13c02224",
   "metadata": {},
   "outputs": [
    {
     "data": {
      "text/plain": [
       "'world'"
      ]
     },
     "execution_count": 18,
     "metadata": {},
     "output_type": "execute_result"
    }
   ],
   "source": [
    "\"world\""
   ]
  },
  {
   "cell_type": "code",
   "execution_count": 19,
   "id": "fab661f4",
   "metadata": {},
   "outputs": [
    {
     "ename": "SyntaxError",
     "evalue": "unterminated string literal (detected at line 1) (3260505140.py, line 1)",
     "output_type": "error",
     "traceback": [
      "  \u001b[36mCell\u001b[39m\u001b[36m \u001b[39m\u001b[32mIn[19]\u001b[39m\u001b[32m, line 1\u001b[39m\n\u001b[31m    \u001b[39m\u001b[31m\"hello world'\u001b[39m\n    ^\n\u001b[31mSyntaxError\u001b[39m\u001b[31m:\u001b[39m unterminated string literal (detected at line 1)\n"
     ]
    }
   ],
   "source": [
    "\"hello world'"
   ]
  },
  {
   "cell_type": "markdown",
   "id": "7f0aa35f",
   "metadata": {},
   "source": [
    "### + operator with strings: \n",
    "\n",
    "<b>Concatination<b> - taking multiple strings and putting them together"
   ]
  },
  {
   "cell_type": "code",
   "execution_count": 20,
   "id": "9551347c",
   "metadata": {},
   "outputs": [
    {
     "data": {
      "text/plain": [
       "'hello world'"
      ]
     },
     "execution_count": 20,
     "metadata": {},
     "output_type": "execute_result"
    }
   ],
   "source": [
    "'hello ' + \"world\""
   ]
  },
  {
   "cell_type": "markdown",
   "id": "b29a06ed",
   "metadata": {},
   "source": [
    "### * operator with strings \n",
    "\n",
    "- it makes multiple multiple copy of a string and concatenates them together "
   ]
  },
  {
   "cell_type": "code",
   "execution_count": 22,
   "id": "616c9831",
   "metadata": {},
   "outputs": [
    {
     "data": {
      "text/plain": [
       "'spam, spam, spam, spam, '"
      ]
     },
     "execution_count": 22,
     "metadata": {},
     "output_type": "execute_result"
    }
   ],
   "source": [
    "'spam, ' * 4 "
   ]
  },
  {
   "cell_type": "markdown",
   "id": "6d0c5c6d",
   "metadata": {},
   "source": [
    "## String Functions "
   ]
  },
  {
   "cell_type": "code",
   "execution_count": null,
   "id": "7179b3ce",
   "metadata": {},
   "outputs": [
    {
     "data": {
      "text/plain": [
       "4"
      ]
     },
     "execution_count": 23,
     "metadata": {},
     "output_type": "execute_result"
    }
   ],
   "source": [
    "len('spam')# the length if the string "
   ]
  },
  {
   "cell_type": "markdown",
   "id": "62c0855c",
   "metadata": {},
   "source": [
    "## 1.5 Values and Types \n",
    "\n",
    "Multiple types of data:\n",
    "* Integers \n",
    "* Floats \n",
    "* Strings \n",
    "* Boolean\n",
    "* Null \n",
    "\n",
    "<font color = \"hotpink\">Type</font> - What kind of value the data is using. Values can belong to a type of data"
   ]
  },
  {
   "cell_type": "code",
   "execution_count": 1,
   "id": "1da9afa2",
   "metadata": {},
   "outputs": [
    {
     "data": {
      "text/plain": [
       "int"
      ]
     },
     "execution_count": 1,
     "metadata": {},
     "output_type": "execute_result"
    }
   ],
   "source": [
    "# Python Type function \n",
    "\n",
    "type(2)"
   ]
  },
  {
   "cell_type": "code",
   "execution_count": 2,
   "id": "51369e62",
   "metadata": {},
   "outputs": [
    {
     "data": {
      "text/plain": [
       "float"
      ]
     },
     "execution_count": 2,
     "metadata": {},
     "output_type": "execute_result"
    }
   ],
   "source": [
    "type(2.4)"
   ]
  },
  {
   "cell_type": "code",
   "execution_count": 3,
   "id": "eceae955",
   "metadata": {},
   "outputs": [
    {
     "data": {
      "text/plain": [
       "bool"
      ]
     },
     "execution_count": 3,
     "metadata": {},
     "output_type": "execute_result"
    }
   ],
   "source": [
    "type(True)"
   ]
  },
  {
   "cell_type": "code",
   "execution_count": 4,
   "id": "4a5684f8",
   "metadata": {},
   "outputs": [
    {
     "data": {
      "text/plain": [
       "str"
      ]
     },
     "execution_count": 4,
     "metadata": {},
     "output_type": "execute_result"
    }
   ],
   "source": [
    "type(\"Hello\")"
   ]
  },
  {
   "cell_type": "code",
   "execution_count": 5,
   "id": "8ab535cf",
   "metadata": {},
   "outputs": [
    {
     "data": {
      "text/plain": [
       "42"
      ]
     },
     "execution_count": 5,
     "metadata": {},
     "output_type": "execute_result"
    }
   ],
   "source": [
    "int(42.9)"
   ]
  },
  {
   "cell_type": "code",
   "execution_count": 6,
   "id": "5f520eb1",
   "metadata": {},
   "outputs": [
    {
     "data": {
      "text/plain": [
       "42.0"
      ]
     },
     "execution_count": 6,
     "metadata": {},
     "output_type": "execute_result"
    }
   ],
   "source": [
    "float(42)"
   ]
  },
  {
   "cell_type": "code",
   "execution_count": 7,
   "id": "c0514a84",
   "metadata": {},
   "outputs": [
    {
     "data": {
      "text/plain": [
       "'42'"
      ]
     },
     "execution_count": 7,
     "metadata": {},
     "output_type": "execute_result"
    }
   ],
   "source": [
    "str(42)"
   ]
  },
  {
   "cell_type": "code",
   "execution_count": 8,
   "id": "ed849e44",
   "metadata": {},
   "outputs": [
    {
     "data": {
      "text/plain": [
       "'425'"
      ]
     },
     "execution_count": 8,
     "metadata": {},
     "output_type": "execute_result"
    }
   ],
   "source": [
    "\"42\" + \"5\""
   ]
  },
  {
   "cell_type": "code",
   "execution_count": 9,
   "id": "978cf13e",
   "metadata": {},
   "outputs": [
    {
     "ename": "TypeError",
     "evalue": "unsupported operand type(s) for /: 'str' and 'int'",
     "output_type": "error",
     "traceback": [
      "\u001b[31m---------------------------------------------------------------------------\u001b[39m",
      "\u001b[31mTypeError\u001b[39m                                 Traceback (most recent call last)",
      "\u001b[36mCell\u001b[39m\u001b[36m \u001b[39m\u001b[32mIn[9]\u001b[39m\u001b[32m, line 1\u001b[39m\n\u001b[32m----> \u001b[39m\u001b[32m1\u001b[39m \u001b[33;43m\"\u001b[39;49m\u001b[33;43m126\u001b[39;49m\u001b[33;43m\"\u001b[39;49m\u001b[43m \u001b[49m\u001b[43m/\u001b[49m\u001b[43m \u001b[49m\u001b[32;43m3\u001b[39;49m \n",
      "\u001b[31mTypeError\u001b[39m: unsupported operand type(s) for /: 'str' and 'int'"
     ]
    }
   ],
   "source": [
    "\"126\" / 3 "
   ]
  },
  {
   "cell_type": "code",
   "execution_count": 10,
   "id": "451bd0c9",
   "metadata": {},
   "outputs": [
    {
     "data": {
      "text/plain": [
       "42.0"
      ]
     },
     "execution_count": 10,
     "metadata": {},
     "output_type": "execute_result"
    }
   ],
   "source": [
    "int(\"126\") / 3 "
   ]
  },
  {
   "cell_type": "code",
   "execution_count": 11,
   "id": "300e4c53",
   "metadata": {},
   "outputs": [
    {
     "ename": "TypeError",
     "evalue": "unsupported operand type(s) for -: 'int' and 'str'",
     "output_type": "error",
     "traceback": [
      "\u001b[31m---------------------------------------------------------------------------\u001b[39m",
      "\u001b[31mTypeError\u001b[39m                                 Traceback (most recent call last)",
      "\u001b[36mCell\u001b[39m\u001b[36m \u001b[39m\u001b[32mIn[11]\u001b[39m\u001b[32m, line 4\u001b[39m\n\u001b[32m      1\u001b[39m age = \u001b[38;5;28minput\u001b[39m(\u001b[33m\"\u001b[39m\u001b[33mPlease enter your age\u001b[39m\u001b[33m\"\u001b[39m) \n\u001b[32m      2\u001b[39m \u001b[38;5;66;03m# All data collected from an input statement is a string \u001b[39;00m\n\u001b[32m----> \u001b[39m\u001b[32m4\u001b[39m birthYear = \u001b[32;43m2025\u001b[39;49m\u001b[43m \u001b[49m\u001b[43m-\u001b[49m\u001b[43m \u001b[49m\u001b[43mage\u001b[49m \n\u001b[32m      6\u001b[39m \u001b[38;5;28mprint\u001b[39m(birthYear)\n",
      "\u001b[31mTypeError\u001b[39m: unsupported operand type(s) for -: 'int' and 'str'"
     ]
    }
   ],
   "source": [
    "age = input(\"Please enter your age\") \n",
    "# All data collected from an input statement is a string \n",
    "\n",
    "birthYear = 2025 - age \n",
    "\n",
    "print(birthYear)\n"
   ]
  },
  {
   "cell_type": "code",
   "execution_count": 12,
   "id": "d5d2bb77",
   "metadata": {},
   "outputs": [
    {
     "name": "stdout",
     "output_type": "stream",
     "text": [
      "2009\n"
     ]
    }
   ],
   "source": [
    "age = input(\"Please enter your age\") \n",
    "# All data collected from an input statement is a string \n",
    "\n",
    "birthYear = 2025 - int(age) \n",
    "\n",
    "print(birthYear)\n"
   ]
  },
  {
   "cell_type": "code",
   "execution_count": 15,
   "id": "59d1ca32",
   "metadata": {},
   "outputs": [
    {
     "data": {
      "text/plain": [
       "(1, 0, 0)"
      ]
     },
     "execution_count": 15,
     "metadata": {},
     "output_type": "execute_result"
    }
   ],
   "source": [
    "1,000,000\n",
    "\n",
    "# using Commas will not work"
   ]
  },
  {
   "cell_type": "code",
   "execution_count": 14,
   "id": "f45cee6b",
   "metadata": {},
   "outputs": [
    {
     "data": {
      "text/plain": [
       "1000000"
      ]
     },
     "execution_count": 14,
     "metadata": {},
     "output_type": "execute_result"
    }
   ],
   "source": [
    "1000000"
   ]
  },
  {
   "cell_type": "code",
   "execution_count": 17,
   "id": "28b0542b",
   "metadata": {},
   "outputs": [
    {
     "ename": "SyntaxError",
     "evalue": "invalid syntax (1797962719.py, line 1)",
     "output_type": "error",
     "traceback": [
      "  \u001b[36mCell\u001b[39m\u001b[36m \u001b[39m\u001b[32mIn[17]\u001b[39m\u001b[32m, line 1\u001b[39m\n\u001b[31m    \u001b[39m\u001b[31m1.000.000\u001b[39m\n         ^\n\u001b[31mSyntaxError\u001b[39m\u001b[31m:\u001b[39m invalid syntax\n"
     ]
    }
   ],
   "source": [
    "1.000.000"
   ]
  },
  {
   "cell_type": "code",
   "execution_count": 18,
   "id": "871dc1e1",
   "metadata": {},
   "outputs": [
    {
     "data": {
      "text/plain": [
       "1024"
      ]
     },
     "execution_count": 18,
     "metadata": {},
     "output_type": "execute_result"
    }
   ],
   "source": [
    "1024"
   ]
  },
  {
   "cell_type": "code",
   "execution_count": 20,
   "id": "10de1a0c",
   "metadata": {},
   "outputs": [
    {
     "data": {
      "text/plain": [
       "42"
      ]
     },
     "execution_count": 20,
     "metadata": {},
     "output_type": "execute_result"
    }
   ],
   "source": [
    "round(42.5)\n"
   ]
  },
  {
   "cell_type": "markdown",
   "id": "8c323b48",
   "metadata": {},
   "source": [
    "## 1.9.5 Exercise "
   ]
  },
  {
   "cell_type": "markdown",
   "id": "1a2a609b",
   "metadata": {},
   "source": [
    "The following Questions give you practice chance to practice writing arithmatic expressions \n",
    "\n",
    "1. How many seconds are there in 42 minutes 42 seconds \n",
    "\n",
    "2. How miles are there in 10 km\n",
    "\n",
    "3. If you run a 10km race in 42min and 42sec, what is your average pace in seconds per mile.\n",
    "\n",
    "4. What is your average pace in mins and secs \n",
    "\n",
    "5. What is your average speed in mph"
   ]
  },
  {
   "cell_type": "code",
   "execution_count": 39,
   "id": "764c0789",
   "metadata": {},
   "outputs": [
    {
     "name": "stdout",
     "output_type": "stream",
     "text": [
      "2562 seconds in 42 minutes and 42 seconds.\n"
     ]
    }
   ],
   "source": [
    "# 1. How many seconds are there in 42 minutes 42 seconds \n",
    "\n",
    "seconds = 42 * 60 \n",
    "\n",
    "totalSeconds = seconds + 42\n",
    "\n",
    "print(str(totalSeconds) + \" seconds in 42 minutes and 42 seconds.\")"
   ]
  },
  {
   "cell_type": "code",
   "execution_count": 29,
   "id": "00b16b38",
   "metadata": {},
   "outputs": [
    {
     "name": "stdout",
     "output_type": "stream",
     "text": [
      "6.21\n"
     ]
    }
   ],
   "source": [
    "#2. How miles are there in 10 km\n",
    "\n",
    "miles = round(10 / 1.61, 2) # comma 2 allows you to set what decimal place you are rounding too\n",
    "\n",
    "print(miles)"
   ]
  },
  {
   "cell_type": "code",
   "execution_count": 31,
   "id": "cc646c7c",
   "metadata": {},
   "outputs": [
    {
     "name": "stdout",
     "output_type": "stream",
     "text": [
      "412.56 seconds per mile\n"
     ]
    }
   ],
   "source": [
    "#3. If you run a 10km race in 42min and 42sec, what is your average pace in seconds per mile.\n",
    "\n",
    "secondsPerMile = round(totalSeconds / miles, 2)\n",
    "\n",
    "print(str(secondsPerMile) + \" seconds per mile\")"
   ]
  },
  {
   "cell_type": "code",
   "execution_count": 38,
   "id": "65bf1d71",
   "metadata": {},
   "outputs": [
    {
     "name": "stdout",
     "output_type": "stream",
     "text": [
      "6.88 is the pace per mile.\n"
     ]
    }
   ],
   "source": [
    "# 4. What is your average pace in mins and secs \n",
    "\n",
    "avg_pace = round(secondsPerMile / 60, 2) \n",
    "\n",
    "print(str(avg_pace) + \" is the pace per mile.\")"
   ]
  },
  {
   "cell_type": "code",
   "execution_count": 44,
   "id": "c589dcca",
   "metadata": {},
   "outputs": [
    {
     "name": "stdout",
     "output_type": "stream",
     "text": [
      "Average speed miles (mph):  8.73\n"
     ]
    }
   ],
   "source": [
    "# 5. What is your average speed in mph\n",
    "\n",
    "hours = totalSeconds / 3600 \n",
    "\n",
    "avg_speed_mph = round(miles / hours, 2)\n",
    "\n",
    "print(\"Average speed miles (mph): \", avg_speed_mph)"
   ]
  },
  {
   "cell_type": "code",
   "execution_count": null,
   "id": "b2bbebb1",
   "metadata": {},
   "outputs": [],
   "source": []
  }
 ],
 "metadata": {
  "kernelspec": {
   "display_name": "Python 3",
   "language": "python",
   "name": "python3"
  },
  "language_info": {
   "codemirror_mode": {
    "name": "ipython",
    "version": 3
   },
   "file_extension": ".py",
   "mimetype": "text/x-python",
   "name": "python",
   "nbconvert_exporter": "python",
   "pygments_lexer": "ipython3",
   "version": "3.12.1"
  }
 },
 "nbformat": 4,
 "nbformat_minor": 5
}
