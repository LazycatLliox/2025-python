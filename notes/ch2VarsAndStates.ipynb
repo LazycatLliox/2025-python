{
 "cells": [
  {
   "cell_type": "markdown",
   "id": "e906f544",
   "metadata": {},
   "source": [
    "# 2.0 Variables and Statements"
   ]
  },
  {
   "cell_type": "markdown",
   "id": "5f498b8a",
   "metadata": {},
   "source": [
    "# 2.1. Variables"
   ]
  },
  {
   "cell_type": "markdown",
   "id": "e89846f1",
   "metadata": {},
   "source": [
    "A variable is a name that refers to a value. To create a variable, we can write a assignment statement like this."
   ]
  },
  {
   "cell_type": "code",
   "execution_count": 10,
   "id": "a1675b7c",
   "metadata": {},
   "outputs": [],
   "source": [
    "n = 17"
   ]
  },
  {
   "cell_type": "markdown",
   "id": "d5f913f6",
   "metadata": {},
   "source": [
    "An assignment statement has three parts: the name of the variable on the left, the equals operator, =, and an expression on the right. In this example, the expression is an integer. In the following example, the expression is a floating-point number."
   ]
  },
  {
   "cell_type": "code",
   "execution_count": 11,
   "id": "d78ce968",
   "metadata": {},
   "outputs": [],
   "source": [
    "pi = 3.141592653589793"
   ]
  },
  {
   "cell_type": "code",
   "execution_count": 12,
   "id": "9f6e29a3",
   "metadata": {},
   "outputs": [],
   "source": [
    "message = 'And now for something completely different'"
   ]
  },
  {
   "cell_type": "markdown",
   "id": "ffa8d164",
   "metadata": {},
   "source": [
    "When you run an assignment statement, there is no output. Python creates the variable and gives it a value, but the assignment statement has no visible effect. However, after creating a variable, you can use it as an expression. So we can display the value of \"message\" like this:"
   ]
  },
  {
   "cell_type": "code",
   "execution_count": 13,
   "id": "103f1d9f",
   "metadata": {},
   "outputs": [
    {
     "data": {
      "text/plain": [
       "'And now for something completely different'"
      ]
     },
     "execution_count": 13,
     "metadata": {},
     "output_type": "execute_result"
    }
   ],
   "source": [
    "message"
   ]
  },
  {
   "cell_type": "markdown",
   "id": "f8f16927",
   "metadata": {},
   "source": [
    "You can also use a variable as part of an expression with arithmetic operators."
   ]
  },
  {
   "cell_type": "code",
   "execution_count": 14,
   "id": "e96f15f2",
   "metadata": {},
   "outputs": [
    {
     "data": {
      "text/plain": [
       "42"
      ]
     },
     "execution_count": 14,
     "metadata": {},
     "output_type": "execute_result"
    }
   ],
   "source": [
    "n + 25"
   ]
  },
  {
   "cell_type": "code",
   "execution_count": 16,
   "id": "5a4152c3",
   "metadata": {},
   "outputs": [
    {
     "data": {
      "text/plain": [
       "6.283185307179586"
      ]
     },
     "execution_count": 16,
     "metadata": {},
     "output_type": "execute_result"
    }
   ],
   "source": [
    "2 * pi"
   ]
  },
  {
   "cell_type": "code",
   "execution_count": 17,
   "id": "8ff8a872",
   "metadata": {},
   "outputs": [
    {
     "data": {
      "text/plain": [
       "42"
      ]
     },
     "execution_count": 17,
     "metadata": {},
     "output_type": "execute_result"
    }
   ],
   "source": [
    "len(message)"
   ]
  },
  {
   "cell_type": "markdown",
   "id": "136c59d1",
   "metadata": {},
   "source": [
    "# 2.2. State diagrams"
   ]
  },
  {
   "cell_type": "markdown",
   "id": "8bd74f8e",
   "metadata": {},
   "source": [
    "round(pi)"
   ]
  },
  {
   "cell_type": "markdown",
   "id": "c0d0a006",
   "metadata": {},
   "source": [
    "A common way to represent variables on paper is to write the name with an arrow pointing to its value."
   ]
  },
  {
   "attachments": {
    "image.png": {
     "image/png": "[encoded data removed]"
    }
   },
   "cell_type": "markdown",
   "id": "1de0f261",
   "metadata": {},
   "source": [
    "![image.png](attachment:image.png)"
   ]
  },
  {
   "cell_type": "markdown",
   "id": "552e29c8",
   "metadata": {},
   "source": [
    "This kind of figure is called a state diagram because it shows what state each of the variables is in (think of it as the variable’s state of mind). We’ll use state diagrams throughout the book to represent a model of how Python stores variables and their values.\n",
    "\n"
   ]
  },
  {
   "cell_type": "markdown",
   "id": "a5811bac",
   "metadata": {},
   "source": [
    "# 2.3. Variable names"
   ]
  },
  {
   "cell_type": "markdown",
   "id": "87ffc010",
   "metadata": {},
   "source": [
    "Variable names can be as long as you like. They can contain both letters and numbers, but they can’t begin with a number. It is legal to use uppercase letters, but it is conventional to use only lower case for variable names."
   ]
  },
  {
   "cell_type": "markdown",
   "id": "377771bb",
   "metadata": {},
   "source": [
    "The only punctuation that can appear in a variable name is the underscore character, _. It is often used in names with multiple words, such as your_name or airspeed_of_unladen_swallow."
   ]
  },
  {
   "cell_type": "markdown",
   "id": "41f670b9",
   "metadata": {},
   "source": [
    "If you give a variable an illegal name, you get a syntax error. The name million! is illegal because it contains punctuation."
   ]
  },
  {
   "cell_type": "code",
   "execution_count": 18,
   "id": "f9283d28",
   "metadata": {},
   "outputs": [
    {
     "ename": "SyntaxError",
     "evalue": "invalid syntax (347180775.py, line 1)",
     "output_type": "error",
     "traceback": [
      "  \u001b[36mCell\u001b[39m\u001b[36m \u001b[39m\u001b[32mIn[18]\u001b[39m\u001b[32m, line 1\u001b[39m\n\u001b[31m    \u001b[39m\u001b[31mmillion! = 1000000\u001b[39m\n           ^\n\u001b[31mSyntaxError\u001b[39m\u001b[31m:\u001b[39m invalid syntax\n"
     ]
    }
   ],
   "source": [
    "million! = 1000000"
   ]
  },
  {
   "cell_type": "markdown",
   "id": "ae504b98",
   "metadata": {},
   "source": [
    "76trombones is illegal because it starts with a number."
   ]
  },
  {
   "cell_type": "code",
   "execution_count": 19,
   "id": "8a98b2b7",
   "metadata": {},
   "outputs": [
    {
     "ename": "SyntaxError",
     "evalue": "invalid decimal literal (3381618747.py, line 1)",
     "output_type": "error",
     "traceback": [
      "  \u001b[36mCell\u001b[39m\u001b[36m \u001b[39m\u001b[32mIn[19]\u001b[39m\u001b[32m, line 1\u001b[39m\n\u001b[31m    \u001b[39m\u001b[31m76trombones = 'big parade'\u001b[39m\n     ^\n\u001b[31mSyntaxError\u001b[39m\u001b[31m:\u001b[39m invalid decimal literal\n"
     ]
    }
   ],
   "source": [
    "76trombones = 'big parade'"
   ]
  },
  {
   "cell_type": "markdown",
   "id": "1a18b669",
   "metadata": {},
   "source": [
    "class is also illegal, but it might not be obvious why."
   ]
  },
  {
   "cell_type": "code",
   "execution_count": 20,
   "id": "7c73392c",
   "metadata": {},
   "outputs": [
    {
     "ename": "SyntaxError",
     "evalue": "invalid syntax (2069597409.py, line 1)",
     "output_type": "error",
     "traceback": [
      "  \u001b[36mCell\u001b[39m\u001b[36m \u001b[39m\u001b[32mIn[20]\u001b[39m\u001b[32m, line 1\u001b[39m\n\u001b[31m    \u001b[39m\u001b[31mclass = 'Self-Defence Against Fresh Fruit'\u001b[39m\n          ^\n\u001b[31mSyntaxError\u001b[39m\u001b[31m:\u001b[39m invalid syntax\n"
     ]
    }
   ],
   "source": [
    "class = 'Self-Defence Against Fresh Fruit'"
   ]
  },
  {
   "cell_type": "markdown",
   "id": "9c5d05d2",
   "metadata": {},
   "source": [
    "t turns out that class is a keyword, which is a special word used to specify the structure of a program. Keywords can’t be used as variable names.\n",
    "\n",
    "Here’s a complete list of Python’s keywords:"
   ]
  },
  {
   "cell_type": "markdown",
   "id": "0a070c43",
   "metadata": {},
   "source": [
    "False      await      else       import     pass\n",
    "None       break      except     in         raise\n",
    "True       class      finally    is         return\n",
    "and        continue   for        lambda     try\n",
    "as         def        from       nonlocal   while\n",
    "assert     del        global     not        with\n",
    "async      elif       if         or         yield"
   ]
  },
  {
   "cell_type": "markdown",
   "id": "ec07a8e9",
   "metadata": {},
   "source": [
    "# 2.4 Import Staments "
   ]
  },
  {
   "cell_type": "code",
   "execution_count": 1,
   "id": "ff59e2f2",
   "metadata": {},
   "outputs": [],
   "source": [
    "import math"
   ]
  },
  {
   "cell_type": "code",
   "execution_count": 2,
   "id": "568847f0",
   "metadata": {},
   "outputs": [
    {
     "data": {
      "text/plain": [
       "3.141592653589793"
      ]
     },
     "execution_count": 2,
     "metadata": {},
     "output_type": "execute_result"
    }
   ],
   "source": [
    "math.pi"
   ]
  },
  {
   "cell_type": "code",
   "execution_count": 6,
   "id": "c1ccb343",
   "metadata": {},
   "outputs": [
    {
     "data": {
      "text/plain": [
       "5.0"
      ]
     },
     "execution_count": 6,
     "metadata": {},
     "output_type": "execute_result"
    }
   ],
   "source": [
    "math.sqrt(25)"
   ]
  },
  {
   "cell_type": "code",
   "execution_count": 7,
   "id": "42684fff",
   "metadata": {},
   "outputs": [
    {
     "data": {
      "text/plain": [
       "25.0"
      ]
     },
     "execution_count": 7,
     "metadata": {},
     "output_type": "execute_result"
    }
   ],
   "source": [
    "math.pow(5, 2)"
   ]
  },
  {
   "cell_type": "markdown",
   "id": "92146721",
   "metadata": {},
   "source": [
    "# 2.5 Expresions and statments "
   ]
  },
  {
   "cell_type": "code",
   "execution_count": 22,
   "id": "6c5359d7",
   "metadata": {},
   "outputs": [
    {
     "data": {
      "text/plain": [
       "42"
      ]
     },
     "execution_count": 22,
     "metadata": {},
     "output_type": "execute_result"
    }
   ],
   "source": [
    "19 + n + round(math.pi) * 2 "
   ]
  },
  {
   "cell_type": "markdown",
   "id": "0b6797fa",
   "metadata": {},
   "source": [
    "We have also seen a few kind of statements. A statement is a unit of code that has an effect, but no value. For example, an assignment statement creates a variable and gives it a value, but the statement itself has no value."
   ]
  },
  {
   "cell_type": "markdown",
   "id": "bdd17dc0",
   "metadata": {},
   "source": [
    "# 2.6. The print function"
   ]
  },
  {
   "cell_type": "code",
   "execution_count": 23,
   "id": "07690872",
   "metadata": {},
   "outputs": [
    {
     "data": {
      "text/plain": [
       "18"
      ]
     },
     "execution_count": 23,
     "metadata": {},
     "output_type": "execute_result"
    }
   ],
   "source": [
    "n + 1"
   ]
  },
  {
   "cell_type": "code",
   "execution_count": 24,
   "id": "8276baeb",
   "metadata": {},
   "outputs": [
    {
     "name": "stdout",
     "output_type": "stream",
     "text": [
      "19\n",
      "20\n"
     ]
    }
   ],
   "source": [
    "print(n+2)\n",
    "print(n+3)"
   ]
  },
  {
   "cell_type": "markdown",
   "id": "9cee7423",
   "metadata": {},
   "source": [
    "It also works with floating-point numbers and strings."
   ]
  },
  {
   "cell_type": "code",
   "execution_count": 25,
   "id": "cc21090c",
   "metadata": {},
   "outputs": [
    {
     "name": "stdout",
     "output_type": "stream",
     "text": [
      "The value of pi is approximately\n",
      "3.141592653589793\n"
     ]
    }
   ],
   "source": [
    "print('The value of pi is approximately')\n",
    "print(math.pi)"
   ]
  },
  {
   "cell_type": "markdown",
   "id": "f83c5143",
   "metadata": {},
   "source": [
    "You can also use a sequence of expressions separated by commas."
   ]
  },
  {
   "cell_type": "code",
   "execution_count": null,
   "id": "3a44161c",
   "metadata": {},
   "outputs": [
    {
     "name": "stdout",
     "output_type": "stream",
     "text": [
      "The value of pi is approximately 3.141592653589793\n"
     ]
    }
   ],
   "source": [
    "print('The value of pi is approximately:', math.pi)"
   ]
  },
  {
   "cell_type": "markdown",
   "id": "005ba68c",
   "metadata": {},
   "source": [
    "# 2.7. Arguments"
   ]
  },
  {
   "cell_type": "markdown",
   "id": "b5d4d9e6",
   "metadata": {},
   "source": [
    "When you call a function, the expression in parenthesis is called an argument. Normally I would explain why, but in this case the technical meaning of a term has almost nothing to do with the common meaning of the word, so I won’t even try."
   ]
  },
  {
   "cell_type": "markdown",
   "id": "3be9ef27",
   "metadata": {},
   "source": [
    "Some of the functions we’ve seen so far take only one argument, like int."
   ]
  },
  {
   "cell_type": "code",
   "execution_count": 27,
   "id": "25510cb6",
   "metadata": {},
   "outputs": [
    {
     "data": {
      "text/plain": [
       "101"
      ]
     },
     "execution_count": 27,
     "metadata": {},
     "output_type": "execute_result"
    }
   ],
   "source": [
    "int('101')"
   ]
  },
  {
   "cell_type": "markdown",
   "id": "cccd8c24",
   "metadata": {},
   "source": [
    "Some take two, like math.pow."
   ]
  },
  {
   "cell_type": "code",
   "execution_count": 28,
   "id": "b5f6ed1e",
   "metadata": {},
   "outputs": [
    {
     "data": {
      "text/plain": [
       "25.0"
      ]
     },
     "execution_count": 28,
     "metadata": {},
     "output_type": "execute_result"
    }
   ],
   "source": [
    "math.pow(5, 2)"
   ]
  },
  {
   "cell_type": "markdown",
   "id": "a1f273ae",
   "metadata": {},
   "source": [
    "Some can take additional arguments that are optional. For example, int can take a second argument that specifies the base of the number.\n"
   ]
  },
  {
   "cell_type": "code",
   "execution_count": 29,
   "id": "8abc19ff",
   "metadata": {},
   "outputs": [
    {
     "data": {
      "text/plain": [
       "3.142"
      ]
     },
     "execution_count": 29,
     "metadata": {},
     "output_type": "execute_result"
    }
   ],
   "source": [
    "round(math.pi, 3)"
   ]
  },
  {
   "cell_type": "markdown",
   "id": "ef6e903f",
   "metadata": {},
   "source": [
    "Some functions can take any number of arguments, like print."
   ]
  },
  {
   "cell_type": "code",
   "execution_count": 30,
   "id": "a9af678e",
   "metadata": {},
   "outputs": [
    {
     "name": "stdout",
     "output_type": "stream",
     "text": [
      "Any number of arguments\n"
     ]
    }
   ],
   "source": [
    "print('Any', 'number', 'of', 'arguments')"
   ]
  },
  {
   "cell_type": "markdown",
   "id": "c4bea68d",
   "metadata": {},
   "source": [
    "If you call a function and provide too many arguments, that’s a TypeError."
   ]
  },
  {
   "cell_type": "code",
   "execution_count": 31,
   "id": "238c3338",
   "metadata": {},
   "outputs": [
    {
     "ename": "TypeError",
     "evalue": "float expected at most 1 argument, got 2",
     "output_type": "error",
     "traceback": [
      "\u001b[31m---------------------------------------------------------------------------\u001b[39m",
      "\u001b[31mTypeError\u001b[39m                                 Traceback (most recent call last)",
      "\u001b[36mCell\u001b[39m\u001b[36m \u001b[39m\u001b[32mIn[31]\u001b[39m\u001b[32m, line 1\u001b[39m\n\u001b[32m----> \u001b[39m\u001b[32m1\u001b[39m \u001b[38;5;28;43mfloat\u001b[39;49m\u001b[43m(\u001b[49m\u001b[33;43m'\u001b[39;49m\u001b[33;43m123.0\u001b[39;49m\u001b[33;43m'\u001b[39;49m\u001b[43m,\u001b[49m\u001b[43m \u001b[49m\u001b[32;43m2\u001b[39;49m\u001b[43m)\u001b[49m\n",
      "\u001b[31mTypeError\u001b[39m: float expected at most 1 argument, got 2"
     ]
    }
   ],
   "source": [
    "float('123.0', 2)"
   ]
  },
  {
   "cell_type": "markdown",
   "id": "543c761a",
   "metadata": {},
   "source": [
    " If you provide too few arguments, that’s also a TypeError."
   ]
  },
  {
   "cell_type": "code",
   "execution_count": 32,
   "id": "37a3d218",
   "metadata": {},
   "outputs": [
    {
     "ename": "TypeError",
     "evalue": "pow expected 2 arguments, got 1",
     "output_type": "error",
     "traceback": [
      "\u001b[31m---------------------------------------------------------------------------\u001b[39m",
      "\u001b[31mTypeError\u001b[39m                                 Traceback (most recent call last)",
      "\u001b[36mCell\u001b[39m\u001b[36m \u001b[39m\u001b[32mIn[32]\u001b[39m\u001b[32m, line 1\u001b[39m\n\u001b[32m----> \u001b[39m\u001b[32m1\u001b[39m \u001b[43mmath\u001b[49m\u001b[43m.\u001b[49m\u001b[43mpow\u001b[49m\u001b[43m(\u001b[49m\u001b[32;43m2\u001b[39;49m\u001b[43m)\u001b[49m\n",
      "\u001b[31mTypeError\u001b[39m: pow expected 2 arguments, got 1"
     ]
    }
   ],
   "source": [
    "math.pow(2)"
   ]
  },
  {
   "cell_type": "markdown",
   "id": "90303afc",
   "metadata": {},
   "source": [
    "And if you provide an argument with a type the function can’t handle, that’s a TypeError, too."
   ]
  },
  {
   "cell_type": "code",
   "execution_count": 33,
   "id": "318aec72",
   "metadata": {},
   "outputs": [
    {
     "ename": "TypeError",
     "evalue": "must be real number, not str",
     "output_type": "error",
     "traceback": [
      "\u001b[31m---------------------------------------------------------------------------\u001b[39m",
      "\u001b[31mTypeError\u001b[39m                                 Traceback (most recent call last)",
      "\u001b[36mCell\u001b[39m\u001b[36m \u001b[39m\u001b[32mIn[33]\u001b[39m\u001b[32m, line 1\u001b[39m\n\u001b[32m----> \u001b[39m\u001b[32m1\u001b[39m \u001b[43mmath\u001b[49m\u001b[43m.\u001b[49m\u001b[43msqrt\u001b[49m\u001b[43m(\u001b[49m\u001b[33;43m'\u001b[39;49m\u001b[33;43m123\u001b[39;49m\u001b[33;43m'\u001b[39;49m\u001b[43m)\u001b[49m\n",
      "\u001b[31mTypeError\u001b[39m: must be real number, not str"
     ]
    }
   ],
   "source": [
    "math.sqrt('123')"
   ]
  },
  {
   "cell_type": "markdown",
   "id": "2ec0638c",
   "metadata": {},
   "source": [
    "This kind of checking can be annoying when you are getting started, but it helps you detect and correct errors."
   ]
  },
  {
   "cell_type": "markdown",
   "id": "bddefaee",
   "metadata": {},
   "source": [
    "# 2.8. Comments"
   ]
  },
  {
   "cell_type": "markdown",
   "id": "93e13189",
   "metadata": {},
   "source": [
    "As programs get bigger and more complicated, they get more difficult to read. Formal languages are dense, and it is often difficult to look at a piece of code and figure out what it is doing and why.\n",
    "\n",
    "For this reason, it is a good idea to add notes to your programs to explain in natural language what the program is doing. These notes are called comments, and they start with the # symbol.\n",
    "\n"
   ]
  },
  {
   "cell_type": "code",
   "execution_count": 34,
   "id": "9eae5ab5",
   "metadata": {},
   "outputs": [],
   "source": [
    "# number of seconds in 42:42\n",
    "seconds = 42 * 60 + 42"
   ]
  },
  {
   "cell_type": "markdown",
   "id": "9e44fb04",
   "metadata": {},
   "source": [
    "In this case, the comment appears on a line by itself. You can also put comments at the end of a line:"
   ]
  },
  {
   "cell_type": "code",
   "execution_count": 35,
   "id": "2c61e1d3",
   "metadata": {},
   "outputs": [],
   "source": [
    "miles = 10 / 1.61     # 10 kilometers in miles"
   ]
  },
  {
   "cell_type": "markdown",
   "id": "824fdff8",
   "metadata": {},
   "source": [
    "Everything from the # to the end of the line is ignored—it has no effect on the execution of the program.\n",
    "\n",
    "Comments are most useful when they document non-obvious features of the code. It is reasonable to assume that the reader can figure out what the code does; it is more useful to explain why.\n",
    "\n",
    "This comment is redundant with the code and useless:"
   ]
  },
  {
   "cell_type": "code",
   "execution_count": 36,
   "id": "891a663f",
   "metadata": {},
   "outputs": [],
   "source": [
    "v = 8     # assign 8 to v"
   ]
  },
  {
   "cell_type": "markdown",
   "id": "2dbef97d",
   "metadata": {},
   "source": [
    "This comment contains useful information that is not in the code:"
   ]
  },
  {
   "cell_type": "code",
   "execution_count": 37,
   "id": "c6ce1f2f",
   "metadata": {},
   "outputs": [],
   "source": [
    "v = 8     # velocity in miles per hour "
   ]
  },
  {
   "cell_type": "markdown",
   "id": "d7e6db96",
   "metadata": {},
   "source": [
    "Good variable names can reduce the need for comments, but long names can make complex expressions hard to read, so there is a tradeoff.\n",
    "\n"
   ]
  },
  {
   "cell_type": "markdown",
   "id": "daa1e6c3",
   "metadata": {},
   "source": [
    "# 2.9. Debugging"
   ]
  },
  {
   "cell_type": "markdown",
   "id": "6222a244",
   "metadata": {},
   "source": [
    "Three kinds of errors can occur in a program: syntax errors, runtime errors, and semantic errors. It is useful to distinguish between them in order to track them down more quickly.\n",
    "\n",
    "Syntax error: “Syntax” refers to the structure of a program and the rules about that structure. If there is a syntax error anywhere in your program, Python does not run the program. It displays an error message immediately.\n",
    "\n",
    "Runtime error: If there are no syntax errors in your program, it can start running. But if something goes wrong, Python displays an error message and stops. This type of error is called a runtime error. It is also called an exception because it indicates that something exceptional has happened.\n",
    "\n",
    "Semantic error: The third type of error is “semantic”, which means related to meaning. If there is a semantic error in your program, it runs without generating error messages, but it does not do what you intended. Identifying semantic errors can be tricky because it requires you to work backward by looking at the output of the program and trying to figure out what it is doing.\n",
    "\n",
    "As we’ve seen, an illegal variable name is a syntax error."
   ]
  },
  {
   "cell_type": "markdown",
   "id": "36fd14ee",
   "metadata": {},
   "source": []
  }
 ],
 "metadata": {
  "kernelspec": {
   "display_name": "Python 3",
   "language": "python",
   "name": "python3"
  },
  "language_info": {
   "codemirror_mode": {
    "name": "ipython",
    "version": 3
   },
   "file_extension": ".py",
   "mimetype": "text/x-python",
   "name": "python",
   "nbconvert_exporter": "python",
   "pygments_lexer": "ipython3",
   "version": "3.12.1"
  }
 },
 "nbformat": 4,
 "nbformat_minor": 5
}
