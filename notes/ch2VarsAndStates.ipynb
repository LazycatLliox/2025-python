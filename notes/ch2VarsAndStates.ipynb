{
 "cells": [
  {
   "cell_type": "markdown",
   "id": "e906f544",
   "metadata": {},
   "source": [
    "# 2.0 Variables and Statements"
   ]
  },
  {
   "cell_type": "markdown",
   "id": "ec07a8e9",
   "metadata": {},
   "source": []
  }
 ],
 "metadata": {
  "language_info": {
   "name": "python"
  }
 },
 "nbformat": 4,
 "nbformat_minor": 5
}
